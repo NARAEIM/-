{
  "cells": [
    {
      "cell_type": "markdown",
      "metadata": {
        "id": "view-in-github",
        "colab_type": "text"
      },
      "source": [
        "<a href=\"https://colab.research.google.com/github/NARAEIM/-/blob/main/n213a_regularized_regression.ipynb\" target=\"_parent\"><img src=\"https://colab.research.google.com/assets/colab-badge.svg\" alt=\"Open In Colab\"/></a>"
      ]
    },
    {
      "cell_type": "markdown",
      "metadata": {
        "id": "b2JzhzEzaLC4"
      },
      "source": [
        "<img align=\"right\" src=\"https://ds-cs-images.s3.ap-northeast-2.amazonaws.com/Codestates_Fulllogo_Color.png\" width=100>\n",
        "\n",
        "## *AIB / SECTION 2 / SPRINT 1 / NOTE 3*\n",
        "\n",
        "# 📝 Assignment\n",
        "---"
      ]
    },
    {
      "cell_type": "markdown",
      "metadata": {
        "id": "kyaj1xiyadVu"
      },
      "source": [
        "# 🌱 **기본 과제**\n",
        "\n",
        "이번에는 노트에서 다루지 않은 새로운 데이터인 [Melbourne Housing Market](https://www.kaggle.com/datasets/anthonypino/melbourne-housing-market#:~:text=calendar_view_week-,MELBOURNE_HOUSE_PRICES_LESS,-.csv)을 사용하여 정규화를 연습해 보겠습니다."
      ]
    },
    {
      "cell_type": "code",
      "execution_count": 1,
      "metadata": {
        "id": "Um7EX5SpSO0J",
        "outputId": "25646d07-0d1c-41d3-a49f-078e14f42fc0",
        "colab": {
          "base_uri": "https://localhost:8080/"
        }
      },
      "outputs": [
        {
          "output_type": "stream",
          "name": "stdout",
          "text": [
            "Looking in indexes: https://pypi.org/simple, https://us-python.pkg.dev/colab-wheels/public/simple/\n",
            "Requirement already satisfied: category_encoders in /usr/local/lib/python3.8/dist-packages (2.5.1.post0)\n",
            "Requirement already satisfied: statsmodels>=0.9.0 in /usr/local/lib/python3.8/dist-packages (from category_encoders) (0.12.2)\n",
            "Requirement already satisfied: patsy>=0.5.1 in /usr/local/lib/python3.8/dist-packages (from category_encoders) (0.5.3)\n",
            "Requirement already satisfied: pandas>=1.0.5 in /usr/local/lib/python3.8/dist-packages (from category_encoders) (1.3.5)\n",
            "Requirement already satisfied: numpy>=1.14.0 in /usr/local/lib/python3.8/dist-packages (from category_encoders) (1.21.6)\n",
            "Requirement already satisfied: scipy>=1.0.0 in /usr/local/lib/python3.8/dist-packages (from category_encoders) (1.7.3)\n",
            "Requirement already satisfied: scikit-learn>=0.20.0 in /usr/local/lib/python3.8/dist-packages (from category_encoders) (1.0.2)\n",
            "Requirement already satisfied: python-dateutil>=2.7.3 in /usr/local/lib/python3.8/dist-packages (from pandas>=1.0.5->category_encoders) (2.8.2)\n",
            "Requirement already satisfied: pytz>=2017.3 in /usr/local/lib/python3.8/dist-packages (from pandas>=1.0.5->category_encoders) (2022.7)\n",
            "Requirement already satisfied: six in /usr/local/lib/python3.8/dist-packages (from patsy>=0.5.1->category_encoders) (1.15.0)\n",
            "Requirement already satisfied: joblib>=0.11 in /usr/local/lib/python3.8/dist-packages (from scikit-learn>=0.20.0->category_encoders) (1.2.0)\n",
            "Requirement already satisfied: threadpoolctl>=2.0.0 in /usr/local/lib/python3.8/dist-packages (from scikit-learn>=0.20.0->category_encoders) (3.1.0)\n"
          ]
        }
      ],
      "source": [
        "!pip install category_encoders"
      ]
    },
    {
      "cell_type": "markdown",
      "metadata": {
        "id": "-EH6j1Mxatdo"
      },
      "source": [
        "## **Part 1. Preprocessing**"
      ]
    },
    {
      "cell_type": "markdown",
      "metadata": {
        "id": "QOxXB39mBuge"
      },
      "source": [
        "### **1-1. 데이터 전처리**\n",
        "\n",
        "- 데이터셋을 불러온 후 전처리를 수행합니다.\n",
        "  - 모델링을 하기 전에 아래 항목을 drop 해주세요.\n",
        "    - 특성\n",
        "      - 날짜 특성\n",
        "      - 범주형 데이터 중에서 카디널리티가 50이 넘는 특성\n",
        "    - 행\n",
        "      - Price 변수 기준 결측치 행\n",
        "      - 중복되는 행"
      ]
    },
    {
      "cell_type": "markdown",
      "metadata": {
        "id": "dbGtjevIxndJ"
      },
      "source": [
        "#### **Q1. 전처리 후 데이터의 shape을 제출하세요.**"
      ]
    },
    {
      "cell_type": "code",
      "execution_count": 2,
      "metadata": {
        "id": "OIZcF8pLpv1-"
      },
      "outputs": [],
      "source": [
        "# 데이터셋을 불러옵니다. \n",
        "\n",
        "import pandas as pd\n",
        "\n",
        "df = pd.read_csv('https://ds-lecture-data.s3.ap-northeast-2.amazonaws.com/melbourne_house_prices/MELBOURNE_HOUSE_PRICES_LESS.csv')"
      ]
    },
    {
      "cell_type": "code",
      "source": [
        "df.head()"
      ],
      "metadata": {
        "id": "eIYzTeK8_aZj",
        "outputId": "3b5de3ec-155b-4a10-8b69-705fa10779a3",
        "colab": {
          "base_uri": "https://localhost:8080/",
          "height": 206
        }
      },
      "execution_count": 3,
      "outputs": [
        {
          "output_type": "execute_result",
          "data": {
            "text/plain": [
              "         Suburb           Address  Rooms Type      Price Method   SellerG  \\\n",
              "0    Abbotsford     49 Lithgow St      3    h  1490000.0      S    Jellis   \n",
              "1    Abbotsford     59A Turner St      3    h  1220000.0      S  Marshall   \n",
              "2    Abbotsford     119B Yarra St      3    h  1420000.0      S    Nelson   \n",
              "3    Aberfeldie        68 Vida St      3    h  1515000.0      S     Barry   \n",
              "4  Airport West  92 Clydesdale Rd      2    h   670000.0      S    Nelson   \n",
              "\n",
              "        Date  Postcode             Regionname  Propertycount  Distance  \\\n",
              "0  1/04/2017      3067  Northern Metropolitan           4019       3.0   \n",
              "1  1/04/2017      3067  Northern Metropolitan           4019       3.0   \n",
              "2  1/04/2017      3067  Northern Metropolitan           4019       3.0   \n",
              "3  1/04/2017      3040   Western Metropolitan           1543       7.5   \n",
              "4  1/04/2017      3042   Western Metropolitan           3464      10.4   \n",
              "\n",
              "                  CouncilArea  \n",
              "0          Yarra City Council  \n",
              "1          Yarra City Council  \n",
              "2          Yarra City Council  \n",
              "3  Moonee Valley City Council  \n",
              "4  Moonee Valley City Council  "
            ],
            "text/html": [
              "\n",
              "  <div id=\"df-3f722a7d-48ae-4a81-b288-35266ff51837\">\n",
              "    <div class=\"colab-df-container\">\n",
              "      <div>\n",
              "<style scoped>\n",
              "    .dataframe tbody tr th:only-of-type {\n",
              "        vertical-align: middle;\n",
              "    }\n",
              "\n",
              "    .dataframe tbody tr th {\n",
              "        vertical-align: top;\n",
              "    }\n",
              "\n",
              "    .dataframe thead th {\n",
              "        text-align: right;\n",
              "    }\n",
              "</style>\n",
              "<table border=\"1\" class=\"dataframe\">\n",
              "  <thead>\n",
              "    <tr style=\"text-align: right;\">\n",
              "      <th></th>\n",
              "      <th>Suburb</th>\n",
              "      <th>Address</th>\n",
              "      <th>Rooms</th>\n",
              "      <th>Type</th>\n",
              "      <th>Price</th>\n",
              "      <th>Method</th>\n",
              "      <th>SellerG</th>\n",
              "      <th>Date</th>\n",
              "      <th>Postcode</th>\n",
              "      <th>Regionname</th>\n",
              "      <th>Propertycount</th>\n",
              "      <th>Distance</th>\n",
              "      <th>CouncilArea</th>\n",
              "    </tr>\n",
              "  </thead>\n",
              "  <tbody>\n",
              "    <tr>\n",
              "      <th>0</th>\n",
              "      <td>Abbotsford</td>\n",
              "      <td>49 Lithgow St</td>\n",
              "      <td>3</td>\n",
              "      <td>h</td>\n",
              "      <td>1490000.0</td>\n",
              "      <td>S</td>\n",
              "      <td>Jellis</td>\n",
              "      <td>1/04/2017</td>\n",
              "      <td>3067</td>\n",
              "      <td>Northern Metropolitan</td>\n",
              "      <td>4019</td>\n",
              "      <td>3.0</td>\n",
              "      <td>Yarra City Council</td>\n",
              "    </tr>\n",
              "    <tr>\n",
              "      <th>1</th>\n",
              "      <td>Abbotsford</td>\n",
              "      <td>59A Turner St</td>\n",
              "      <td>3</td>\n",
              "      <td>h</td>\n",
              "      <td>1220000.0</td>\n",
              "      <td>S</td>\n",
              "      <td>Marshall</td>\n",
              "      <td>1/04/2017</td>\n",
              "      <td>3067</td>\n",
              "      <td>Northern Metropolitan</td>\n",
              "      <td>4019</td>\n",
              "      <td>3.0</td>\n",
              "      <td>Yarra City Council</td>\n",
              "    </tr>\n",
              "    <tr>\n",
              "      <th>2</th>\n",
              "      <td>Abbotsford</td>\n",
              "      <td>119B Yarra St</td>\n",
              "      <td>3</td>\n",
              "      <td>h</td>\n",
              "      <td>1420000.0</td>\n",
              "      <td>S</td>\n",
              "      <td>Nelson</td>\n",
              "      <td>1/04/2017</td>\n",
              "      <td>3067</td>\n",
              "      <td>Northern Metropolitan</td>\n",
              "      <td>4019</td>\n",
              "      <td>3.0</td>\n",
              "      <td>Yarra City Council</td>\n",
              "    </tr>\n",
              "    <tr>\n",
              "      <th>3</th>\n",
              "      <td>Aberfeldie</td>\n",
              "      <td>68 Vida St</td>\n",
              "      <td>3</td>\n",
              "      <td>h</td>\n",
              "      <td>1515000.0</td>\n",
              "      <td>S</td>\n",
              "      <td>Barry</td>\n",
              "      <td>1/04/2017</td>\n",
              "      <td>3040</td>\n",
              "      <td>Western Metropolitan</td>\n",
              "      <td>1543</td>\n",
              "      <td>7.5</td>\n",
              "      <td>Moonee Valley City Council</td>\n",
              "    </tr>\n",
              "    <tr>\n",
              "      <th>4</th>\n",
              "      <td>Airport West</td>\n",
              "      <td>92 Clydesdale Rd</td>\n",
              "      <td>2</td>\n",
              "      <td>h</td>\n",
              "      <td>670000.0</td>\n",
              "      <td>S</td>\n",
              "      <td>Nelson</td>\n",
              "      <td>1/04/2017</td>\n",
              "      <td>3042</td>\n",
              "      <td>Western Metropolitan</td>\n",
              "      <td>3464</td>\n",
              "      <td>10.4</td>\n",
              "      <td>Moonee Valley City Council</td>\n",
              "    </tr>\n",
              "  </tbody>\n",
              "</table>\n",
              "</div>\n",
              "      <button class=\"colab-df-convert\" onclick=\"convertToInteractive('df-3f722a7d-48ae-4a81-b288-35266ff51837')\"\n",
              "              title=\"Convert this dataframe to an interactive table.\"\n",
              "              style=\"display:none;\">\n",
              "        \n",
              "  <svg xmlns=\"http://www.w3.org/2000/svg\" height=\"24px\"viewBox=\"0 0 24 24\"\n",
              "       width=\"24px\">\n",
              "    <path d=\"M0 0h24v24H0V0z\" fill=\"none\"/>\n",
              "    <path d=\"M18.56 5.44l.94 2.06.94-2.06 2.06-.94-2.06-.94-.94-2.06-.94 2.06-2.06.94zm-11 1L8.5 8.5l.94-2.06 2.06-.94-2.06-.94L8.5 2.5l-.94 2.06-2.06.94zm10 10l.94 2.06.94-2.06 2.06-.94-2.06-.94-.94-2.06-.94 2.06-2.06.94z\"/><path d=\"M17.41 7.96l-1.37-1.37c-.4-.4-.92-.59-1.43-.59-.52 0-1.04.2-1.43.59L10.3 9.45l-7.72 7.72c-.78.78-.78 2.05 0 2.83L4 21.41c.39.39.9.59 1.41.59.51 0 1.02-.2 1.41-.59l7.78-7.78 2.81-2.81c.8-.78.8-2.07 0-2.86zM5.41 20L4 18.59l7.72-7.72 1.47 1.35L5.41 20z\"/>\n",
              "  </svg>\n",
              "      </button>\n",
              "      \n",
              "  <style>\n",
              "    .colab-df-container {\n",
              "      display:flex;\n",
              "      flex-wrap:wrap;\n",
              "      gap: 12px;\n",
              "    }\n",
              "\n",
              "    .colab-df-convert {\n",
              "      background-color: #E8F0FE;\n",
              "      border: none;\n",
              "      border-radius: 50%;\n",
              "      cursor: pointer;\n",
              "      display: none;\n",
              "      fill: #1967D2;\n",
              "      height: 32px;\n",
              "      padding: 0 0 0 0;\n",
              "      width: 32px;\n",
              "    }\n",
              "\n",
              "    .colab-df-convert:hover {\n",
              "      background-color: #E2EBFA;\n",
              "      box-shadow: 0px 1px 2px rgba(60, 64, 67, 0.3), 0px 1px 3px 1px rgba(60, 64, 67, 0.15);\n",
              "      fill: #174EA6;\n",
              "    }\n",
              "\n",
              "    [theme=dark] .colab-df-convert {\n",
              "      background-color: #3B4455;\n",
              "      fill: #D2E3FC;\n",
              "    }\n",
              "\n",
              "    [theme=dark] .colab-df-convert:hover {\n",
              "      background-color: #434B5C;\n",
              "      box-shadow: 0px 1px 3px 1px rgba(0, 0, 0, 0.15);\n",
              "      filter: drop-shadow(0px 1px 2px rgba(0, 0, 0, 0.3));\n",
              "      fill: #FFFFFF;\n",
              "    }\n",
              "  </style>\n",
              "\n",
              "      <script>\n",
              "        const buttonEl =\n",
              "          document.querySelector('#df-3f722a7d-48ae-4a81-b288-35266ff51837 button.colab-df-convert');\n",
              "        buttonEl.style.display =\n",
              "          google.colab.kernel.accessAllowed ? 'block' : 'none';\n",
              "\n",
              "        async function convertToInteractive(key) {\n",
              "          const element = document.querySelector('#df-3f722a7d-48ae-4a81-b288-35266ff51837');\n",
              "          const dataTable =\n",
              "            await google.colab.kernel.invokeFunction('convertToInteractive',\n",
              "                                                     [key], {});\n",
              "          if (!dataTable) return;\n",
              "\n",
              "          const docLinkHtml = 'Like what you see? Visit the ' +\n",
              "            '<a target=\"_blank\" href=https://colab.research.google.com/notebooks/data_table.ipynb>data table notebook</a>'\n",
              "            + ' to learn more about interactive tables.';\n",
              "          element.innerHTML = '';\n",
              "          dataTable['output_type'] = 'display_data';\n",
              "          await google.colab.output.renderOutput(dataTable, element);\n",
              "          const docLink = document.createElement('div');\n",
              "          docLink.innerHTML = docLinkHtml;\n",
              "          element.appendChild(docLink);\n",
              "        }\n",
              "      </script>\n",
              "    </div>\n",
              "  </div>\n",
              "  "
            ]
          },
          "metadata": {},
          "execution_count": 3
        }
      ]
    },
    {
      "cell_type": "code",
      "source": [
        "df['CouncilArea'].value_counts()"
      ],
      "metadata": {
        "colab": {
          "base_uri": "https://localhost:8080/"
        },
        "id": "vwdZIVKfV5M-",
        "outputId": "f447e9b6-d8ed-4807-e144-38cdfc4b2c4c"
      },
      "execution_count": 4,
      "outputs": [
        {
          "output_type": "execute_result",
          "data": {
            "text/plain": [
              "Boroondara City Council           5132\n",
              "Darebin City Council              4182\n",
              "Banyule City Council              3656\n",
              "Monash City Council               3592\n",
              "Bayside City Council              3331\n",
              "Brimbank City Council             3296\n",
              "Moreland City Council             3030\n",
              "Hume City Council                 2939\n",
              "Glen Eira City Council            2934\n",
              "Melbourne City Council            2728\n",
              "Whittlesea City Council           2545\n",
              "Moonee Valley City Council        2512\n",
              "Kingston City Council             2378\n",
              "Manningham City Council           2225\n",
              "Maribyrnong City Council          2083\n",
              "Stonnington City Council          1991\n",
              "Whitehorse City Council           1811\n",
              "Port Phillip City Council         1771\n",
              "Yarra City Council                1698\n",
              "Wyndham City Council              1542\n",
              "Maroondah City Council            1451\n",
              "Hobsons Bay City Council          1351\n",
              "Knox City Council                 1043\n",
              "Greater Dandenong City Council     948\n",
              "Frankston City Council             835\n",
              "Melton City Council                687\n",
              "Casey City Council                 503\n",
              "Nillumbik Shire Council            277\n",
              "Yarra Ranges Shire Council         262\n",
              "Macedon Ranges Shire Council       137\n",
              "Cardinia Shire Council              88\n",
              "Mitchell Shire Council              45\n",
              "Moorabool Shire Council             19\n",
              "Murrindindi Shire Council            1\n",
              "Name: CouncilArea, dtype: int64"
            ]
          },
          "metadata": {},
          "execution_count": 4
        }
      ]
    },
    {
      "cell_type": "code",
      "source": [
        "df.info()"
      ],
      "metadata": {
        "id": "eLiTMTXRX_SW",
        "outputId": "30196e6d-8f84-4926-9a0e-ea6de314d4f2",
        "colab": {
          "base_uri": "https://localhost:8080/"
        }
      },
      "execution_count": 5,
      "outputs": [
        {
          "output_type": "stream",
          "name": "stdout",
          "text": [
            "<class 'pandas.core.frame.DataFrame'>\n",
            "RangeIndex: 63023 entries, 0 to 63022\n",
            "Data columns (total 13 columns):\n",
            " #   Column         Non-Null Count  Dtype  \n",
            "---  ------         --------------  -----  \n",
            " 0   Suburb         63023 non-null  object \n",
            " 1   Address        63023 non-null  object \n",
            " 2   Rooms          63023 non-null  int64  \n",
            " 3   Type           63023 non-null  object \n",
            " 4   Price          48433 non-null  float64\n",
            " 5   Method         63023 non-null  object \n",
            " 6   SellerG        63023 non-null  object \n",
            " 7   Date           63023 non-null  object \n",
            " 8   Postcode       63023 non-null  int64  \n",
            " 9   Regionname     63023 non-null  object \n",
            " 10  Propertycount  63023 non-null  int64  \n",
            " 11  Distance       63023 non-null  float64\n",
            " 12  CouncilArea    63023 non-null  object \n",
            "dtypes: float64(2), int64(3), object(8)\n",
            "memory usage: 6.3+ MB\n"
          ]
        }
      ]
    },
    {
      "cell_type": "code",
      "execution_count": 6,
      "metadata": {
        "id": "W2m8pbj-hqel",
        "outputId": "1b43c05a-351f-4c97-9507-eb55971c808e",
        "colab": {
          "base_uri": "https://localhost:8080/"
        }
      },
      "outputs": [
        {
          "output_type": "execute_result",
          "data": {
            "text/plain": [
              "(63023, 12)"
            ]
          },
          "metadata": {},
          "execution_count": 6
        }
      ],
      "source": [
        "## 이 곳에서 과제를 진행해주세요.\n",
        "\n",
        "# 날짜 특성 삭제\n",
        "df= df.drop(columns='Date')\n",
        "df.shape"
      ]
    },
    {
      "cell_type": "code",
      "source": [
        "df.dtypes"
      ],
      "metadata": {
        "id": "4hnSPYQFBL0S",
        "outputId": "1b085038-4d45-4eec-c04a-24b3d00fb74f",
        "colab": {
          "base_uri": "https://localhost:8080/"
        }
      },
      "execution_count": 7,
      "outputs": [
        {
          "output_type": "execute_result",
          "data": {
            "text/plain": [
              "Suburb            object\n",
              "Address           object\n",
              "Rooms              int64\n",
              "Type              object\n",
              "Price            float64\n",
              "Method            object\n",
              "SellerG           object\n",
              "Postcode           int64\n",
              "Regionname        object\n",
              "Propertycount      int64\n",
              "Distance         float64\n",
              "CouncilArea       object\n",
              "dtype: object"
            ]
          },
          "metadata": {},
          "execution_count": 7
        }
      ]
    },
    {
      "cell_type": "code",
      "source": [
        "df.nunique()[df.nunique()>50]"
      ],
      "metadata": {
        "id": "HR-KNKKeMb9s",
        "outputId": "832a8b3b-df57-4715-add3-3a06888d76f1",
        "colab": {
          "base_uri": "https://localhost:8080/"
        }
      },
      "execution_count": 8,
      "outputs": [
        {
          "output_type": "execute_result",
          "data": {
            "text/plain": [
              "Suburb             380\n",
              "Address          57754\n",
              "Price             3417\n",
              "SellerG            476\n",
              "Postcode           225\n",
              "Propertycount      368\n",
              "Distance           180\n",
              "dtype: int64"
            ]
          },
          "metadata": {},
          "execution_count": 8
        }
      ]
    },
    {
      "cell_type": "code",
      "source": [
        "df_clean = df.drop(columns = ['Address', 'SellerG', 'Suburb'])\n",
        "df_clean.shape"
      ],
      "metadata": {
        "id": "lMlG-F5nOneF",
        "outputId": "7b73355e-9a1f-4cfb-8488-ddde37ade736",
        "colab": {
          "base_uri": "https://localhost:8080/"
        }
      },
      "execution_count": 9,
      "outputs": [
        {
          "output_type": "execute_result",
          "data": {
            "text/plain": [
              "(63023, 9)"
            ]
          },
          "metadata": {},
          "execution_count": 9
        }
      ]
    },
    {
      "cell_type": "code",
      "source": [
        "# Price열에 있는 결측치행 제거\n",
        "df_clean = df_clean.dropna(subset=['Price'], axis=0)\n"
      ],
      "metadata": {
        "id": "QkKUwlpGHY4Z"
      },
      "execution_count": 10,
      "outputs": []
    },
    {
      "cell_type": "code",
      "source": [
        "# 중복행 제거\n",
        "df_clean = df_clean.drop_duplicates()\n",
        "df_clean.shape"
      ],
      "metadata": {
        "id": "XqEM2a9JIbEC",
        "outputId": "a7bd02de-1959-4525-c67c-713044000e58",
        "colab": {
          "base_uri": "https://localhost:8080/"
        }
      },
      "execution_count": 11,
      "outputs": [
        {
          "output_type": "execute_result",
          "data": {
            "text/plain": [
              "(42515, 9)"
            ]
          },
          "metadata": {},
          "execution_count": 11
        }
      ]
    },
    {
      "cell_type": "code",
      "source": [
        "df_clean['CouncilArea'].value_counts()"
      ],
      "metadata": {
        "colab": {
          "base_uri": "https://localhost:8080/"
        },
        "id": "E0hQ5MaBcbBp",
        "outputId": "084cf043-898f-4aae-bb82-ed758b8f2561"
      },
      "execution_count": 12,
      "outputs": [
        {
          "output_type": "execute_result",
          "data": {
            "text/plain": [
              "Boroondara City Council           3109\n",
              "Darebin City Council              2831\n",
              "Banyule City Council              2550\n",
              "Brimbank City Council             2326\n",
              "Bayside City Council              2254\n",
              "Monash City Council               2226\n",
              "Moreland City Council             2159\n",
              "Glen Eira City Council            2075\n",
              "Moonee Valley City Council        1945\n",
              "Hume City Council                 1936\n",
              "Kingston City Council             1873\n",
              "Melbourne City Council            1870\n",
              "Whittlesea City Council           1615\n",
              "Manningham City Council           1581\n",
              "Maribyrnong City Council          1561\n",
              "Whitehorse City Council           1206\n",
              "Yarra City Council                1178\n",
              "Port Phillip City Council         1152\n",
              "Stonnington City Council          1094\n",
              "Hobsons Bay City Council           999\n",
              "Wyndham City Council               927\n",
              "Maroondah City Council             920\n",
              "Knox City Council                  682\n",
              "Frankston City Council             560\n",
              "Greater Dandenong City Council     542\n",
              "Melton City Council                489\n",
              "Casey City Council                 322\n",
              "Nillumbik Shire Council            202\n",
              "Yarra Ranges Shire Council         159\n",
              "Macedon Ranges Shire Council        91\n",
              "Cardinia Shire Council              52\n",
              "Mitchell Shire Council              17\n",
              "Moorabool Shire Council             11\n",
              "Murrindindi Shire Council            1\n",
              "Name: CouncilArea, dtype: int64"
            ]
          },
          "metadata": {},
          "execution_count": 12
        }
      ]
    },
    {
      "cell_type": "markdown",
      "metadata": {
        "id": "JlqRr_4kO6BV"
      },
      "source": [
        "### **1-2. OneHotEncoder**\n",
        "- 데이터 분리\n",
        "  - 특성과 타겟을 분리해주세요.\n",
        "  - `train_test_split()`을 사용하여 전체 데이터를 훈련과 테스트 데이터로 나누어주세요. \n",
        "    - 훈련과 테스트 데이터는 8:2의 비로 나눕니다.\n",
        "    - `random_state=2`로 설정합니다. \n",
        "  - `train_test_split()`을 사용하여 훈련 데이터를 훈련과 검증 데이터로 나누어주세요.\n",
        "    - 훈련과 검증 데이터는 8:2의 비로 나눕니다.\n",
        "    - `random_state=2`로 설정합니다.\n",
        "- OneHotEncoder\n",
        "  - \b`category_encoders` 라이브러리를 사용해서 원핫인코딩을 수행하세요."
      ]
    },
    {
      "cell_type": "code",
      "source": [
        "df_clean.columns"
      ],
      "metadata": {
        "id": "50inJikBem2a",
        "outputId": "fcce4e4d-9f11-4824-cd5a-8141c8e6db48",
        "colab": {
          "base_uri": "https://localhost:8080/"
        }
      },
      "execution_count": 13,
      "outputs": [
        {
          "output_type": "execute_result",
          "data": {
            "text/plain": [
              "Index(['Rooms', 'Type', 'Price', 'Method', 'Postcode', 'Regionname',\n",
              "       'Propertycount', 'Distance', 'CouncilArea'],\n",
              "      dtype='object')"
            ]
          },
          "metadata": {},
          "execution_count": 13
        }
      ]
    },
    {
      "cell_type": "code",
      "execution_count": 14,
      "metadata": {
        "id": "yswffNW0m8Wy"
      },
      "outputs": [],
      "source": [
        "## 이 곳에서 과제를 진행해주세요.\n",
        "\n",
        "# 특성과 타겟을 분리\n",
        "target = 'Price'\n",
        "features = ['Rooms', 'Type', 'Method', 'Postcode', 'Regionname', 'Propertycount', 'Distance', 'CouncilArea']"
      ]
    },
    {
      "cell_type": "code",
      "source": [
        "# train, test 데이터 나누기 \n",
        "\n",
        "from sklearn.model_selection import train_test_split\n",
        "\n",
        "train_sk, test_sk = train_test_split(df_clean, test_size=0.2, random_state=2)\n",
        "train_sk, val_sk = train_test_split(train_sk, test_size=0.2, random_state=2)\n",
        "\n",
        "print(\"train set : \",train_sk.shape)\n",
        "print(\"test set : \",test_sk.shape)\n",
        "print(\"validation set : \",val_sk.shape)\n",
        "\n",
        "# X와 y를 나누는 함수를 만들어주겠습니다. \n",
        "def x_y_split(df_clean) :\n",
        "    X = df_clean[features]\n",
        "    y = df_clean[target]\n",
        "    return X, y\n",
        "\n",
        "#각 데이터 세트를 X와 y로 나눠주겠습니다. \n",
        "X_train, y_train = x_y_split(train_sk)\n",
        "X_val, y_val = x_y_split(val_sk)\n",
        "X_test, y_test = x_y_split(test_sk)\n",
        "\n",
        "# 데이터가 잘 나눠졌는지 shape을 확인해보겠습니다.\n",
        "print(f'X_train: {X_train.shape}, y_train: {y_train.shape}')\n",
        "print(f'X_val: {X_val.shape}, y_val: {y_val.shape}')\n",
        "print(f'X_test: {X_test.shape}, y_test: {y_test.shape}')"
      ],
      "metadata": {
        "id": "rHI7YA8Ze57D",
        "colab": {
          "base_uri": "https://localhost:8080/"
        },
        "outputId": "e34e1834-f4e8-47ad-edbe-f6b0ffbbf3a2"
      },
      "execution_count": 15,
      "outputs": [
        {
          "output_type": "stream",
          "name": "stdout",
          "text": [
            "train set :  (27209, 9)\n",
            "test set :  (8503, 9)\n",
            "validation set :  (6803, 9)\n",
            "X_train: (27209, 8), y_train: (27209,)\n",
            "X_val: (6803, 8), y_val: (6803,)\n",
            "X_test: (8503, 8), y_test: (8503,)\n"
          ]
        }
      ]
    },
    {
      "cell_type": "markdown",
      "metadata": {
        "id": "QeD9J3amrOFo"
      },
      "source": [
        "##### **Q2. 훈련/검증/테스트 데이터에 원핫인코딩을 수행한 후 열(column) 개수를 제출하세요.**"
      ]
    },
    {
      "cell_type": "code",
      "source": [
        "# One-Hot encoding을 해주겠습니다.\n",
        "from category_encoders import OneHotEncoder\n",
        "\n",
        "ohe = OneHotEncoder()\n",
        "X_train_ohe = ohe.fit_transform(X_train)\n",
        "X_test_ohe = ohe.transform(X_test)\n",
        "X_val_ohe = ohe.transform(X_val)"
      ],
      "metadata": {
        "id": "_2Lg2Y_mh9q6"
      },
      "execution_count": 16,
      "outputs": []
    },
    {
      "cell_type": "code",
      "source": [
        "X_train_ohe.shape, X_val_ohe.shape, X_test_ohe.shape"
      ],
      "metadata": {
        "colab": {
          "base_uri": "https://localhost:8080/"
        },
        "id": "mHS3LO3NMxH0",
        "outputId": "297e2359-f0a6-4892-c9a6-7bdab9df4832"
      },
      "execution_count": 125,
      "outputs": [
        {
          "output_type": "execute_result",
          "data": {
            "text/plain": [
              "((27209, 54), (6803, 54), (8503, 54))"
            ]
          },
          "metadata": {},
          "execution_count": 125
        }
      ]
    },
    {
      "cell_type": "code",
      "source": [
        "# 문자형 데이터가 없는 것을 확인할 수 있습니다.\n",
        "(X_train_ohe.dtypes == 'object').sum()"
      ],
      "metadata": {
        "colab": {
          "base_uri": "https://localhost:8080/"
        },
        "id": "Leyma_K1ixuj",
        "outputId": "3dbc9450-753b-46a0-f9e9-479e82800e2b"
      },
      "execution_count": 18,
      "outputs": [
        {
          "output_type": "execute_result",
          "data": {
            "text/plain": [
              "0"
            ]
          },
          "metadata": {},
          "execution_count": 18
        }
      ]
    },
    {
      "cell_type": "markdown",
      "metadata": {
        "id": "CoGmec1dPKnF"
      },
      "source": [
        "## **Part 2. 정규화 모델**\n",
        "\n",
        "- 여러 회귀 모델을 만들어서 비교해보세요.\n",
        "  - 모델을 수행하기 전에 **`baseline`**모델을 만들어주세요.\n",
        "  - 정규화 모델을 학습하기 전에 **`StandardScaler`**를 사용해서 **표준화**를 수행해주세요.\n",
        "  - **`ols`**, **`ridge`**, **`lasso`** 회귀모델을 아래와 같은 조건에서 만들고 각각의 회귀계수를 확인해보세요.\n",
        "    - `LinearRegression()`\n",
        "    - `Ridge(alpha=1)`\n",
        "    - `Lasso(alpha=1000, tol=1)`"
      ]
    },
    {
      "cell_type": "code",
      "source": [
        "import numpy as np\n",
        "import pandas as pd\n",
        "import seaborn as sns\n",
        "import matplotlib.pyplot as plt\n",
        "import seaborn as sns\n",
        "from sklearn.preprocessing import StandardScaler, PolynomialFeatures\n",
        "from sklearn.linear_model import LinearRegression, Ridge, Lasso\n",
        "import warnings\n",
        "warnings.filterwarnings(action='ignore')"
      ],
      "metadata": {
        "id": "y3AgYbfUdGsf"
      },
      "execution_count": 19,
      "outputs": []
    },
    {
      "cell_type": "code",
      "source": [
        "from sklearn.metrics import r2_score, mean_absolute_error\n",
        "\n",
        "baseline = [y_train.mean()] * len(y_train)\n",
        "baseline_r2 = r2_score(y_train, baseline)\n",
        "baseline_mae = mean_absolute_error(y_train, baseline)\n",
        "print(f'기준모델의 r2_score: {baseline_r2}')\n",
        "print(f'기준모델의 mae : {baseline_mae}')"
      ],
      "metadata": {
        "colab": {
          "base_uri": "https://localhost:8080/"
        },
        "id": "m0V7W46UREO2",
        "outputId": "a0e4a727-0bf8-4d2a-d054-6cdcee4afcaf"
      },
      "execution_count": 20,
      "outputs": [
        {
          "output_type": "stream",
          "name": "stdout",
          "text": [
            "기준모델의 r2_score: 0.0\n",
            "기준모델의 mae : 420382.30671549414\n"
          ]
        }
      ]
    },
    {
      "cell_type": "code",
      "source": [
        "# One-Hot encoding을 해주겠습니다.\n",
        "\n",
        "ohe = OneHotEncoder()\n",
        "\n",
        "# 인코딩하는 방법을 눈여겨 보세요.\n",
        "\n",
        "X_train_std = ohe.fit_transform(X_train)\n",
        "X_test_std = ohe.transform(X_test)\n",
        "X_val_std = ohe.transform(X_val)\n",
        "\n",
        "\n",
        "scaler = StandardScaler()\n",
        "X_train_std = scaler.fit_transform(X_train_std)\n",
        "X_test_std = scaler.transform(X_test_std)\n",
        "X_val_std = scaler.transform(X_val_std)\n",
        "\n",
        "\n",
        "X_train_std=pd.DataFrame(X_train_std)\n",
        "X_test_std=pd.DataFrame(X_test_std)\n",
        "X_val_std=pd.DataFrame(X_val_std)"
      ],
      "metadata": {
        "id": "DE-fNOS2mZHG"
      },
      "execution_count": 21,
      "outputs": []
    },
    {
      "cell_type": "code",
      "source": [
        "def print_score(model, X_train, y_train, X_test, y_test) :\n",
        "\n",
        "    train_score = np.round(model.score(X_train, y_train) , 3)\n",
        "    val_score = np.round(np.mean(cross_val_score(model, X_train, y_train, scoring='r2', cv=3).round(3)),3)\n",
        "    test_score = np.round(model.score(X_test, y_test),3)\n",
        "    mae = mean_absolute_error(y_test, model.predict(X_test))\n",
        "\n",
        "\n",
        "    print(f'학습 세트 r2_score : {train_score}')\n",
        "    print(f'검증 세트 r2_score : {val_score}')\n",
        "    print(f'테스트 세트 r2_score : {test_score}')\n",
        "    print(f'mae :{mae}')\n",
        "\n",
        "    return train_score, val_score, test_score, mae\n",
        "\n",
        "from sklearn.model_selection import cross_val_score\n",
        "\n",
        "# 선형회귀를 ols라는 객체에 저장합니다. \n",
        "ols = LinearRegression()\n",
        "\n",
        "# 모델 학습\n",
        "ols.fit(X_train_std, y_train)\n",
        "\n",
        "# 성능 비교\n",
        "ols_train, ols_val, ols_test, ols_mae = print_score(ols,X_train_std, y_train, X_test_std, y_test)"
      ],
      "metadata": {
        "colab": {
          "base_uri": "https://localhost:8080/"
        },
        "id": "KCjijpmHmkDL",
        "outputId": "1992f9d9-9cb5-42ca-e4a8-18b822a55989"
      },
      "execution_count": 79,
      "outputs": [
        {
          "output_type": "stream",
          "name": "stdout",
          "text": [
            "학습 세트 r2_score : 0.579\n",
            "검증 세트 r2_score : -3.0443006239447644e+21\n",
            "테스트 세트 r2_score : 0.588\n",
            "mae :255099.87369523922\n"
          ]
        }
      ]
    },
    {
      "cell_type": "code",
      "source": [
        "ols_coef = ols.coef_\n"
      ],
      "metadata": {
        "id": "NyHzGtdfodlg"
      },
      "execution_count": 133,
      "outputs": []
    },
    {
      "cell_type": "code",
      "source": [
        "for alpha in [0.01, 0.1, 1.0, 1, 100.0, 1000.0, 10000.0]:\n",
        "        \n",
        "    print(f'Ridge Regression, alpha={alpha}')\n",
        "\n",
        "    # Ridge 모델 학습\n",
        "    ridge = Ridge(alpha=alpha)  \n",
        "    ridge.fit(X_train_ohe, y_train)\n",
        "\n",
        "    # 성능 확인\n",
        "    print_score(ridge, X_train_ohe, y_train, X_test_ohe, y_test)\n",
        "\n",
        "    # plot coefficients\n",
        "    # 절대값 상위 40개의 회귀계수만 그래프에 나타냈습니다. \n",
        "    coefficients = pd.Series(ridge.coef_, X_train_ohe.columns)\n",
        "    idx = np.abs(coefficients).head(40).index\n",
        "    plt.figure(figsize=(6, 8))\n",
        "    coefficients[idx].sort_values().plot.barh()\n",
        "    plt.show()"
      ],
      "metadata": {
        "colab": {
          "base_uri": "https://localhost:8080/",
          "height": 1000
        },
        "id": "Ea6nDvKAd3Pt",
        "outputId": "012439f6-eac2-41e6-9473-731fc559c9f5"
      },
      "execution_count": 111,
      "outputs": [
        {
          "output_type": "stream",
          "name": "stdout",
          "text": [
            "Ridge Regression, alpha=0.01\n",
            "학습 세트 r2_score : 0.579\n",
            "검증 세트 r2_score : 0.579\n",
            "테스트 세트 r2_score : 0.588\n",
            "mae :255114.3742636196\n"
          ]
        },
        {
          "output_type": "display_data",
          "data": {
            "text/plain": [
              "<Figure size 432x576 with 1 Axes>"
            ],
            "image/png": "[encoded data removed]"
          },
          "metadata": {
            "needs_background": "light"
          }
        },
        {
          "output_type": "stream",
          "name": "stdout",
          "text": [
            "Ridge Regression, alpha=0.1\n",
            "학습 세트 r2_score : 0.579\n",
            "검증 세트 r2_score : 0.579\n",
            "테스트 세트 r2_score : 0.588\n",
            "mae :255112.3178861584\n"
          ]
        },
        {
          "output_type": "display_data",
          "data": {
            "text/plain": [
              "<Figure size 432x576 with 1 Axes>"
            ],
            "image/png": "[encoded data removed]"
          },
          "metadata": {
            "needs_background": "light"
          }
        },
        {
          "output_type": "stream",
          "name": "stdout",
          "text": [
            "Ridge Regression, alpha=1.0\n",
            "학습 세트 r2_score : 0.579\n",
            "검증 세트 r2_score : 0.579\n",
            "테스트 세트 r2_score : 0.588\n",
            "mae :255098.98484410896\n"
          ]
        },
        {
          "output_type": "display_data",
          "data": {
            "text/plain": [
              "<Figure size 432x576 with 1 Axes>"
            ],
            "image/png": "[encoded data removed]"
          },
          "metadata": {
            "needs_background": "light"
          }
        },
        {
          "output_type": "stream",
          "name": "stdout",
          "text": [
            "Ridge Regression, alpha=1\n",
            "학습 세트 r2_score : 0.579\n",
            "검증 세트 r2_score : 0.579\n",
            "테스트 세트 r2_score : 0.588\n",
            "mae :255098.98484410896\n"
          ]
        },
        {
          "output_type": "display_data",
          "data": {
            "text/plain": [
              "<Figure size 432x576 with 1 Axes>"
            ],
            "image/png": "[encoded data removed]"
          },
          "metadata": {
            "needs_background": "light"
          }
        },
        {
          "output_type": "stream",
          "name": "stdout",
          "text": [
            "Ridge Regression, alpha=100.0\n",
            "학습 세트 r2_score : 0.576\n",
            "검증 세트 r2_score : 0.574\n",
            "테스트 세트 r2_score : 0.583\n",
            "mae :255786.22095721168\n"
          ]
        },
        {
          "output_type": "display_data",
          "data": {
            "text/plain": [
              "<Figure size 432x576 with 1 Axes>"
            ],
            "image/png": "[encoded data removed]"
          },
          "metadata": {
            "needs_background": "light"
          }
        },
        {
          "output_type": "stream",
          "name": "stdout",
          "text": [
            "Ridge Regression, alpha=1000.0\n",
            "학습 세트 r2_score : 0.554\n",
            "검증 세트 r2_score : 0.546\n",
            "테스트 세트 r2_score : 0.562\n",
            "mae :261757.40749880843\n"
          ]
        },
        {
          "output_type": "display_data",
          "data": {
            "text/plain": [
              "<Figure size 432x576 with 1 Axes>"
            ],
            "image/png": "[encoded data removed]"
          },
          "metadata": {
            "needs_background": "light"
          }
        },
        {
          "output_type": "stream",
          "name": "stdout",
          "text": [
            "Ridge Regression, alpha=10000.0\n",
            "학습 세트 r2_score : 0.451\n",
            "검증 세트 r2_score : 0.415\n",
            "테스트 세트 r2_score : 0.457\n",
            "mae :293313.1071331731\n"
          ]
        },
        {
          "output_type": "display_data",
          "data": {
            "text/plain": [
              "<Figure size 432x576 with 1 Axes>"
            ],
            "image/png": "[encoded data removed]"
          },
          "metadata": {
            "needs_background": "light"
          }
        }
      ]
    },
    {
      "cell_type": "code",
      "source": [
        "from sklearn.linear_model import RidgeCV, LassoCV\n",
        "\n",
        "# ridgecv로 학습\n",
        "alphas = np.arange(1, 100, 10)\n",
        "ridge = RidgeCV(alphas=alphas, cv=5)\n",
        "ridge.fit(X_train_ohe, y_train)\n",
        "\n",
        "print(\"alpha: \", ridge.alpha_)\n",
        "\n"
      ],
      "metadata": {
        "colab": {
          "base_uri": "https://localhost:8080/"
        },
        "id": "PoKbDjF2zNZg",
        "outputId": "696e05ef-f20d-4017-f66b-71dba9d590c0"
      },
      "execution_count": 113,
      "outputs": [
        {
          "output_type": "stream",
          "name": "stdout",
          "text": [
            "alpha:  1\n"
          ]
        }
      ]
    },
    {
      "cell_type": "code",
      "source": [
        "ridge_coef = pd.Series(ridge.coef_, ridge.feature_names_in_)\n",
        "ridge_coef.sort_values(ascending=False).head(20)\n"
      ],
      "metadata": {
        "colab": {
          "base_uri": "https://localhost:8080/"
        },
        "id": "9iQn6wuEm_d2",
        "outputId": "44990a8f-3624-4b8a-ccb4-09874ea29f56"
      },
      "execution_count": 107,
      "outputs": [
        {
          "output_type": "execute_result",
          "data": {
            "text/plain": [
              "CouncilArea_14    480440.818217\n",
              "CouncilArea_12    455716.014031\n",
              "CouncilArea_2     448133.460353\n",
              "CouncilArea_32    440082.596538\n",
              "CouncilArea_24    312854.899681\n",
              "Rooms             248243.205811\n",
              "CouncilArea_34    228640.120748\n",
              "Type_1            227718.421859\n",
              "CouncilArea_6     182740.254731\n",
              "CouncilArea_31    162837.445467\n",
              "CouncilArea_13    157518.194270\n",
              "CouncilArea_3     115006.089557\n",
              "Regionname_8      114403.196198\n",
              "CouncilArea_21    111009.652584\n",
              "Regionname_7      106969.837466\n",
              "Regionname_3       91133.672133\n",
              "CouncilArea_9      86699.497711\n",
              "CouncilArea_33     31683.283623\n",
              "CouncilArea_30     30687.711740\n",
              "CouncilArea_10     22200.648957\n",
              "dtype: float64"
            ]
          },
          "metadata": {},
          "execution_count": 107
        }
      ]
    },
    {
      "cell_type": "code",
      "source": [],
      "metadata": {
        "id": "jJJ-VIOEtUaG"
      },
      "execution_count": null,
      "outputs": []
    },
    {
      "cell_type": "code",
      "source": [
        "# Lasso\n",
        "\n",
        "\"\"\"\n",
        "패널티값(alpha)이 커질수록 회귀계수가 작아지는 것을 그래프로 확인해보세요.\n",
        "\"\"\"\n",
        "\n",
        "for alpha in [1000]:\n",
        "        \n",
        "    print(f'Lasso Regression, alpha={alpha}')\n",
        "\n",
        "    # Ridge 모델 학습\n",
        "    lasso = Lasso(alpha=alpha)  \n",
        "    lasso.fit(X_train_std, y_train)\n",
        "\n",
        "    # 성능 확인\n",
        "    print_score(lasso, X_train_std, y_train, X_test_std, y_test)\n",
        "\n",
        "\n"
      ],
      "metadata": {
        "colab": {
          "base_uri": "https://localhost:8080/"
        },
        "id": "5513wJ8GSTjk",
        "outputId": "510035d9-3476-4bc6-8d8e-db0d0e399045"
      },
      "execution_count": 83,
      "outputs": [
        {
          "output_type": "stream",
          "name": "stdout",
          "text": [
            "Lasso Regression, alpha=1000\n",
            "학습 세트 r2_score : 0.579\n",
            "검증 세트 r2_score : 0.579\n",
            "테스트 세트 r2_score : 0.587\n",
            "mae :254792.26451453666\n"
          ]
        }
      ]
    },
    {
      "cell_type": "code",
      "source": [
        "lasso_coef = lasso.coef_\n",
        "lasso_coef = np.abs(lasso_coef)\n",
        "lasso_coef = np.sort(lasso_coef)\n",
        "lasso_coef = np.round(lasso_coef, 2)\n",
        "lasso_coef = pd.Series(lasso.coef_, ridge.feature_names_in_)\n",
        "lasso_coef[lasso_coef==0].sort_values(ascending=False)"
      ],
      "metadata": {
        "colab": {
          "base_uri": "https://localhost:8080/",
          "height": 227
        },
        "id": "5SDviYXDSXMb",
        "outputId": "2806c3d5-63ee-4b3f-e943-e08b6a544496"
      },
      "execution_count": 92,
      "outputs": [
        {
          "output_type": "error",
          "ename": "AttributeError",
          "evalue": "ignored",
          "traceback": [
            "\u001b[0;31m---------------------------------------------------------------------------\u001b[0m",
            "\u001b[0;31mAttributeError\u001b[0m                            Traceback (most recent call last)",
            "\u001b[0;32m<ipython-input-92-5329fc09f8be>\u001b[0m in \u001b[0;36m<module>\u001b[0;34m\u001b[0m\n\u001b[1;32m      3\u001b[0m \u001b[0mlasso_coef\u001b[0m \u001b[0;34m=\u001b[0m \u001b[0mnp\u001b[0m\u001b[0;34m.\u001b[0m\u001b[0msort\u001b[0m\u001b[0;34m(\u001b[0m\u001b[0mlasso_coef\u001b[0m\u001b[0;34m)\u001b[0m\u001b[0;34m\u001b[0m\u001b[0;34m\u001b[0m\u001b[0m\n\u001b[1;32m      4\u001b[0m \u001b[0mlasso_coef\u001b[0m \u001b[0;34m=\u001b[0m \u001b[0mnp\u001b[0m\u001b[0;34m.\u001b[0m\u001b[0mround\u001b[0m\u001b[0;34m(\u001b[0m\u001b[0mlasso_coef\u001b[0m\u001b[0;34m,\u001b[0m \u001b[0;36m2\u001b[0m\u001b[0;34m)\u001b[0m\u001b[0;34m\u001b[0m\u001b[0;34m\u001b[0m\u001b[0m\n\u001b[0;32m----> 5\u001b[0;31m \u001b[0mlasso_coef\u001b[0m \u001b[0;34m=\u001b[0m \u001b[0mpd\u001b[0m\u001b[0;34m.\u001b[0m\u001b[0mSeries\u001b[0m\u001b[0;34m(\u001b[0m\u001b[0mlasso\u001b[0m\u001b[0;34m.\u001b[0m\u001b[0mcoef_\u001b[0m\u001b[0;34m,\u001b[0m \u001b[0mridge\u001b[0m\u001b[0;34m.\u001b[0m\u001b[0mfeature_names_in_\u001b[0m\u001b[0;34m)\u001b[0m\u001b[0;34m\u001b[0m\u001b[0;34m\u001b[0m\u001b[0m\n\u001b[0m\u001b[1;32m      6\u001b[0m \u001b[0mlasso_coef\u001b[0m\u001b[0;34m[\u001b[0m\u001b[0mlasso_coef\u001b[0m\u001b[0;34m==\u001b[0m\u001b[0;36m0\u001b[0m\u001b[0;34m]\u001b[0m\u001b[0;34m.\u001b[0m\u001b[0msort_values\u001b[0m\u001b[0;34m(\u001b[0m\u001b[0mascending\u001b[0m\u001b[0;34m=\u001b[0m\u001b[0;32mFalse\u001b[0m\u001b[0;34m)\u001b[0m\u001b[0;34m\u001b[0m\u001b[0;34m\u001b[0m\u001b[0m\n",
            "\u001b[0;31mAttributeError\u001b[0m: 'Ridge' object has no attribute 'feature_names_in_'"
          ]
        }
      ]
    },
    {
      "cell_type": "code",
      "source": [
        "# ols, ridge, lasso 비교\n",
        "\n",
        "eval_compare = pd.DataFrame(index = ['train', 'CV', 'Test'], data = {'OLS':[ols_train, ols_val, ols_test], 'Ridge':[ridge_train, ridge_val, ridge_test], 'Lasso':[lasso_train, lasso_val, lasso_test]})\n",
        "eval_compare"
      ],
      "metadata": {
        "id": "IVeY8FBfScvz"
      },
      "execution_count": null,
      "outputs": []
    },
    {
      "cell_type": "code",
      "source": [
        "compare = pd.concat([ols_coef, ridge_coef, lasso_coef], axis=1)\n",
        "compare.columns = ['OLS', 'Ridge', 'Lasso']\n",
        "compare = compare.abs()"
      ],
      "metadata": {
        "id": "ttRbl90FShnw"
      },
      "execution_count": null,
      "outputs": []
    },
    {
      "cell_type": "code",
      "source": [
        "idx = np.abs(compare.OLS).index\n",
        "compare.loc[idx].sort_values(by='Lasso')"
      ],
      "metadata": {
        "id": "z-X-qyP7SjYB"
      },
      "execution_count": null,
      "outputs": []
    },
    {
      "cell_type": "markdown",
      "metadata": {
        "id": "tWK_hUd6znDb"
      },
      "source": [
        "### **2-1. Ridge Regression**"
      ]
    },
    {
      "cell_type": "markdown",
      "metadata": {
        "id": "kIcrX9cj7N1L"
      },
      "source": [
        "##### **Q3. Ridge 회귀모델의 회귀계수 중 `절댓값이 가장 작은 특성`의 이름과 회귀계수를 ``Abc, 123.45``의 형식으로 제출하세요. (반올림하여 소수점 둘째 자리까지)**"
      ]
    },
    {
      "cell_type": "code",
      "source": [
        "print(ridge_coef.abs().idxmin(axis=0),',', round(ridge_coef.abs().min(axis=0),2))"
      ],
      "metadata": {
        "id": "31890m5uSPtu"
      },
      "execution_count": null,
      "outputs": []
    },
    {
      "cell_type": "markdown",
      "metadata": {
        "id": "nAIkzVGL7UdF"
      },
      "source": [
        "### **2-2. Lasso Regression**"
      ]
    },
    {
      "cell_type": "markdown",
      "metadata": {
        "id": "cqdmO43O3dPK"
      },
      "source": [
        "##### **Q4. Lasso 회귀모델의 회귀계수 중 0으로 수렴한 특성의 개수를 제출하세요.**"
      ]
    },
    {
      "cell_type": "code",
      "execution_count": null,
      "metadata": {
        "id": "ODRn1zrow1m4"
      },
      "outputs": [],
      "source": [
        "## 이 곳에서 과제를 진행해주세요."
      ]
    },
    {
      "cell_type": "markdown",
      "metadata": {
        "id": "CVSXu28z9JUY"
      },
      "source": [
        "### **2-3. 일반화 성능 검증**\n",
        "-  학습한 정규화 모델 중 검증 세트의 **`MAE`**가 가장 낮은 모델을 선택하고 일반화 성능을 확인하세요.\n",
        "  -  일반화 성능은 **`Test Set`**를 한 번만 사용해서 확인합니다.\n",
        "  - 일반화 성능 확인 시 평가지표는 **`MAE`**를 사용해주세요."
      ]
    },
    {
      "cell_type": "markdown",
      "metadata": {
        "id": "O5LQmm0_-0Eu"
      },
      "source": [
        "##### **Q5. \b정규화 모델 중 검증 세트의 MAE가 가장 낮은 모델로 일반화 성능을 확인하여 점수를 제출해주세요. (반올림하여 소수점 둘째 자리까지)** "
      ]
    },
    {
      "cell_type": "code",
      "execution_count": null,
      "metadata": {
        "id": "__r6a5Wq-DO1"
      },
      "outputs": [],
      "source": [
        "## 이 곳에서 과제를 진행해주세요."
      ]
    },
    {
      "cell_type": "markdown",
      "metadata": {
        "id": "MAdX9sdSUVdQ"
      },
      "source": [
        "# 🥇 **도전 과제**\n",
        "\n",
        "- RidgeCV와 LassoCV를 사용해서 최적의 알파값을 찾는 과정을 수행하고 성능을 개선해보세요.\n",
        "\n",
        "- ElasticNet 정규화 모델에 대해서 추가로 학습해보세요. \n",
        "\n",
        "- Lasso 와 Ridge에 사용되는 L1, L2 정규화에 대해 알아보고 논의해보세요.\n"
      ]
    },
    {
      "cell_type": "code",
      "execution_count": null,
      "metadata": {
        "id": "yRkUx54FY5Pp"
      },
      "outputs": [],
      "source": []
    }
  ],
  "metadata": {
    "colab": {
      "provenance": [],
      "include_colab_link": true
    },
    "kernelspec": {
      "display_name": "Python 3",
      "name": "python3"
    },
    "language_info": {
      "name": "python"
    }
  },
  "nbformat": 4,
  "nbformat_minor": 0
}